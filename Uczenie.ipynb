{
  "cells": [
    {
      "cell_type": "code",
      "source": [
        "# Experiment 2\n",
        "# Define activation functions to search\n",
        "# Importing necessary libraries\n",
        "import kagglehub\n",
        "import os\n",
        "import pandas as pd\n",
        "import matplotlib.pyplot as plt\n",
        "import seaborn as sns\n",
        "import numpy as np\n",
        "import tensorflow as tf\n",
        "from tensorflow import keras\n",
        "from tensorflow.keras.models import Sequential\n",
        "from tensorflow.keras.layers import Dense, Dropout, BatchNormalization\n",
        "from tensorflow.keras import regularizers, optimizers\n",
        "from tensorflow.keras.regularizers import l1, l2\n",
        "\n",
        "#Required for the notebook's reproduciiility\n",
        "np.random.seed(2)\n",
        "tf.random.set_seed(2)\n",
        "\n",
        "# Download latest version\n",
        "path = kagglehub.dataset_download(\"muhammadtahir194/movies-dataset-tmdb-top-rated\")\n",
        "\n",
        "print(\"Path to dataset files:\", path)\n",
        "file_path=\"\"\n",
        "for file in os.listdir(path):\n",
        "    if file.endswith(\".csv\"):\n",
        "        file_path = os.path.join(path, file)\n",
        "        break\n",
        "\n",
        "df = pd.read_csv(file_path)\n",
        "print(df.head())\n",
        "df.dropna(inplace=True)\n",
        "df['is_popular'] = df['popularity'] > 4.0\n",
        "df['is_popular'] = df['is_popular'].astype(int) #form of one-hot encodinng\n",
        "\n",
        "# Convert the release_date column to datetime format and extracting only the year\n",
        "df['release_date'] = pd.to_datetime(df['release_date'], errors='coerce')\n",
        "df['release_year'] = df['release_date'].dt.year.astype(int)\n",
        "df.drop(columns=['release_date'], inplace=True)\n",
        "\n",
        "df.drop(columns=['title', 'overview'], inplace=True)\n",
        "print(df.head())\n",
        "import numpy as np\n",
        "from sklearn.model_selection import train_test_split\n",
        "from sklearn.preprocessing import StandardScaler\n",
        "\n",
        "X, y = df.drop(columns=['id','popularity', 'is_popular']), df['is_popular']\n",
        "print(\"X shape:\", X.shape)\n",
        "print(\"y shape:\", y.shape)\n",
        "\n",
        "stratify_val = y if len(np.unique(y)) < 20 else None\n",
        "print(\"Unique y values in the dataset: \", len(np.unique(y)))\n",
        "\n",
        "# Splitting data into training (70%), validation (15%), and test (15%) sets\n",
        "X_train, X_temp, y_train, y_temp = train_test_split(X, y, test_size=0.3, random_state=2, stratify=stratify_val)\n",
        "stratify_val_temp = y_temp if stratify_val is not None else None\n",
        "X_val, X_test, y_val, y_test = train_test_split(X_temp, y_temp, test_size=0.5, random_state=2, stratify=stratify_val_temp)\n",
        "\n",
        "print(f\"Training Set: {X_train.shape}, Validation Set: {X_val.shape}, Test Set: {X_test.shape}\")\n",
        "\n",
        "# Scaling the numerical features\n",
        "numerical_cols = X_train.select_dtypes(include=['float64', 'int64']).columns\n",
        "scaler = StandardScaler()\n",
        "X_train[numerical_cols] = scaler.fit_transform(X_train[numerical_cols])\n",
        "X_val[numerical_cols] = scaler.transform(X_val[numerical_cols])\n",
        "X_test[numerical_cols] = scaler.transform(X_test[numerical_cols])\n",
        "\n",
        "\n",
        "\n",
        "ACTIVATION_FUNCTIONS = ['relu', 'tanh', 'sigmoid', 'elu']\n",
        "\n",
        "\n",
        "def build_and_train_model_different_activations(neurons=32, layers=2, activation_list=None, dropout_rate=0.3,\n",
        "                                                optimizer='adam',\n",
        "                                                learning_rate=0.001, batch_size=16, regularization=None,\n",
        "                                                batch_norm=False):\n",
        "    # If no activation list is provided, we will define default to 'relu' for all layers\n",
        "    if activation_list is None:\n",
        "        activation_list = ['relu'] * layers\n",
        "\n",
        "    model = Sequential()\n",
        "\n",
        "    # Input Layer\n",
        "    model.add(Dense(neurons, activation=activation_list[0], input_shape=(X_train.shape[1],),\n",
        "                    kernel_regularizer=regularization))\n",
        "\n",
        "    if batch_norm:\n",
        "        model.add(BatchNormalization())\n",
        "\n",
        "    model.add(Dropout(dropout_rate))\n",
        "\n",
        "    # Hidden Layers\n",
        "    for i in range(1, layers):\n",
        "        model.add(Dense(neurons, activation=activation_list[i], kernel_regularizer=regularization))\n",
        "        if batch_norm:\n",
        "            model.add(BatchNormalization())\n",
        "        model.add(Dropout(dropout_rate))\n",
        "\n",
        "    # Output Layer\n",
        "    model.add(Dense(1, activation='sigmoid'))\n",
        "\n",
        "    # Compile Model\n",
        "    if optimizer == \"adam\":\n",
        "        optimizer = keras.optimizers.Adam(learning_rate)\n",
        "    elif optimizer == \"rmsprop\":\n",
        "        optimizer = keras.optimizers.RMSprop(learning_rate)\n",
        "    else:\n",
        "        optimizer = keras.optimizers.SGD(learning_rate)\n",
        "\n",
        "    model.compile(optimizer=optimizer, loss='binary_crossentropy', metrics=['accuracy'])\n",
        "\n",
        "    # Train Model\n",
        "    history = model.fit(X_train, y_train, epochs=50, batch_size=batch_size, validation_data=(X_val, y_val), verbose=0)\n",
        "\n",
        "    # Evaluate Performance\n",
        "    val_acc = max(history.history['val_accuracy'])\n",
        "    return model, val_acc, activation_list, history\n",
        "\n",
        "\n",
        "import itertools\n",
        "\n",
        "# Global best accuracy and best config\n",
        "best_overall_acc = 0\n",
        "best_overall_config = {}\n"
      ],
      "metadata": {
        "id": "anVeHw8ezuPh",
        "outputId": "794f7f14-61a2-4901-826f-ae457c135678",
        "colab": {
          "base_uri": "https://localhost:8080/"
        }
      },
      "execution_count": 5,
      "outputs": [
        {
          "output_type": "stream",
          "name": "stdout",
          "text": [
            "Path to dataset files: /root/.cache/kagglehub/datasets/muhammadtahir194/movies-dataset-tmdb-top-rated/versions/1\n",
            "        id                     title  \\\n",
            "0      278  The Shawshank Redemption   \n",
            "1      238             The Godfather   \n",
            "2      240     The Godfather Part II   \n",
            "3      424          Schindler's List   \n",
            "4  1356039             Counterattack   \n",
            "\n",
            "                                            overview release_date  popularity  \\\n",
            "0  Imprisoned in the 1940s for the double murder ...   1994-09-23       5.522   \n",
            "1  Spanning the years 1945 to 1955, a chronicle o...   1972-03-14       5.317   \n",
            "2  In the continuing saga of the Corleone crime f...   1974-12-20       4.747   \n",
            "3  The true story of how businessman Oskar Schind...   1993-12-15       4.457   \n",
            "4  When a hostage rescue mission creates a new en...   2025-02-27       9.430   \n",
            "\n",
            "   vote_average  vote_count  \n",
            "0         8.708       27883  \n",
            "1         8.689       21151  \n",
            "2         8.570       12771  \n",
            "3         8.567       16219  \n",
            "4         8.524         431  \n",
            "        id  popularity  vote_average  vote_count  is_popular  release_year\n",
            "0      278       5.522         8.708       27883           1          1994\n",
            "1      238       5.317         8.689       21151           1          1972\n",
            "2      240       4.747         8.570       12771           1          1974\n",
            "3      424       4.457         8.567       16219           1          1993\n",
            "4  1356039       9.430         8.524         431           1          2025\n",
            "X shape: (8558, 3)\n",
            "y shape: (8558,)\n",
            "Unique y values in the dataset:  2\n",
            "Training Set: (5990, 3), Validation Set: (1284, 3), Test Set: (1284, 3)\n"
          ]
        }
      ]
    },
    {
      "cell_type": "code",
      "source": [
        "#Experiment 2 - different activation functions\n",
        "ACTIVATION_FUNCTIONS = ['relu', 'tanh', 'sigmoid', 'elu']\n",
        "\n",
        "def build_and_train_model_different_activations(neurons=32, layers=2, activation_list=None, dropout_rate=0.3, optimizer='adam',\n",
        "                          learning_rate=0.001, batch_size=16, regularization=None, batch_norm=False):\n",
        "\n",
        "    # If no activation list is provided, we will define default to 'relu' for all layers\n",
        "    if activation_list is None:\n",
        "        activation_list = ['relu'] * layers\n",
        "\n",
        "    model = Sequential()\n",
        "\n",
        "    # Input Layer\n",
        "    model.add(Dense(neurons, activation=activation_list[0], input_shape=(X_train.shape[1],),\n",
        "                    kernel_regularizer=regularization))\n",
        "\n",
        "    if batch_norm:\n",
        "        model.add(BatchNormalization())\n",
        "\n",
        "    model.add(Dropout(dropout_rate))\n",
        "\n",
        "    # Hidden Layers\n",
        "    for i in range(1, layers):\n",
        "        model.add(Dense(neurons, activation=activation_list[i], kernel_regularizer=regularization))\n",
        "        if batch_norm:\n",
        "            model.add(BatchNormalization())\n",
        "        model.add(Dropout(dropout_rate))\n",
        "\n",
        "    # Output Layer\n",
        "    model.add(Dense(1, activation='sigmoid'))\n",
        "\n",
        "    # Compile Model\n",
        "    if optimizer == \"adam\":\n",
        "        optimizer = keras.optimizers.Adam(learning_rate)\n",
        "    elif optimizer == \"rmsprop\":\n",
        "        optimizer = keras.optimizers.RMSprop(learning_rate)\n",
        "    else:\n",
        "        optimizer = keras.optimizers.SGD(learning_rate)\n",
        "\n",
        "    model.compile(optimizer=optimizer, loss='binary_crossentropy', metrics=['accuracy'])\n",
        "\n",
        "    # Train Model\n",
        "    history = model.fit(X_train, y_train, epochs=50, batch_size=batch_size, validation_data=(X_val, y_val), verbose=0)\n",
        "\n",
        "    # Evaluate Performance\n",
        "    val_acc = max(history.history['val_accuracy'])\n",
        "    return model, val_acc, activation_list, history\n",
        "\n"
      ],
      "metadata": {
        "id": "Esmbqr0yzvwZ"
      },
      "execution_count": 2,
      "outputs": []
    },
    {
      "cell_type": "code",
      "source": [
        "\n",
        "\n",
        "import itertools\n",
        "\n",
        "# Global best accuracy and best config\n",
        "best_overall_acc = 0\n",
        "best_overall_config = {}\n",
        "\n",
        "\n",
        "def search_best_activation(neurons=32, layers=2, dropout_rate=0.3, optimizer='adam',\n",
        "                           learning_rate=0.001, batch_size=16, regularization=None, batch_norm=False):\n",
        "    \"\"\"\n",
        "    Searches for the best activation function layout for a given neuron-layer configuration.\n",
        "    \"\"\"\n",
        "    global best_overall_acc, best_overall_config  # Ensure global best tracking\n",
        "\n",
        "    best_acc_for_config = 0\n",
        "    best_model = None\n",
        "    best_activation = None\n",
        "    best_params_for_config = {}\n",
        "\n",
        "    # Generate all possible activation combinations\n",
        "    activation_combinations = list(itertools.product(ACTIVATION_FUNCTIONS, repeat=layers))[:20] #let's limit the amount of possible combinations\n",
        "\n",
        "    for activation_list in activation_combinations:\n",
        "        print(f\"Testing activation functions: {activation_list} for Neurons={neurons}, Layers={layers}\")\n",
        "\n",
        "        model, val_acc, activation_used, _ = build_and_train_model_different_activations(\n",
        "            neurons=neurons, layers=layers, activation_list=list(activation_list),\n",
        "            dropout_rate=dropout_rate, optimizer=optimizer, learning_rate=learning_rate,\n",
        "            batch_size=batch_size, regularization=regularization, batch_norm=batch_norm\n",
        "        )\n",
        "\n",
        "        # Update best accuracy for this neuron-layer configuration\n",
        "        if val_acc > best_acc_for_config:\n",
        "            best_acc_for_config = val_acc\n",
        "            best_model = model\n",
        "            best_activation = activation_used\n",
        "            best_params_for_config = {\n",
        "                'neurons': neurons,\n",
        "                'layers': layers,\n",
        "                'activation_list': best_activation,\n",
        "                'dropout_rate': dropout_rate,\n",
        "                'optimizer': optimizer,\n",
        "                'learning_rate': learning_rate,\n",
        "                'batch_size': batch_size,\n",
        "                'regularization': regularization,\n",
        "                'batch_norm': batch_norm\n",
        "            }\n",
        "\n",
        "    print(\n",
        "        f\"Best Activation Set for Neurons={neurons}, Layers={layers}: {best_activation} -> Accuracy: {best_acc_for_config}\")\n",
        "\n",
        "    # Update overall best configuration\n",
        "    if best_acc_for_config > best_overall_acc:\n",
        "        best_overall_acc = best_acc_for_config\n",
        "        best_overall_config = best_params_for_config\n",
        "        print(f\"New Overall Best Accuracy: {best_overall_acc} with Configuration: {best_overall_config}\")\n",
        "\n",
        "    return best_model, best_activation, best_acc_for_config, best_params_for_config\n",
        "\n",
        "\n",
        "# Search for the best activation functions for different layers and neuron configurations\n",
        "layer = 4\n",
        "neurons = [4, 8, 16, 32]\n",
        "\n",
        "# Predefined best hyperparameters\n",
        "params = {\n",
        "    'dropout_rate': 0.3,\n",
        "    'optimizer': 'adam',\n",
        "    'learning_rate': 0.001,\n",
        "    'batch_size': 16,\n",
        "    'regularization': None,\n",
        "    'batch_norm': False\n",
        "}\n",
        "\n",
        "# Store results for each configuration\n",
        "results = []\n",
        "for neuron in neurons:\n",
        "    model, activation, val_acc, best_config = search_best_activation(neurons=neuron, layers=layer, **params)\n",
        "    results.append((f'Neurons={neuron}, Layers={layer}', {\n",
        "        'params': best_config,\n",
        "        'activation': activation,\n",
        "        'val_acc': val_acc\n",
        "    }))\n",
        "\n",
        "# Print final best overall configuration\n",
        "print(f\"\\nBest Overall Configuration:\\n{best_overall_config} -> Accuracy: {best_overall_acc}\")"
      ],
      "metadata": {
        "id": "r4chrPzazxaA",
        "outputId": "069dff05-dcdc-40cc-aab9-0d3a6f121d1b",
        "colab": {
          "base_uri": "https://localhost:8080/"
        }
      },
      "execution_count": 3,
      "outputs": [
        {
          "metadata": {
            "tags": null
          },
          "name": "stdout",
          "output_type": "stream",
          "text": [
            "Testing activation functions: ('relu', 'relu', 'relu', 'relu') for Neurons=4, Layers=4\n"
          ]
        },
        {
          "metadata": {
            "tags": null
          },
          "name": "stderr",
          "output_type": "stream",
          "text": [
            "/usr/local/lib/python3.11/dist-packages/keras/src/layers/core/dense.py:87: UserWarning: Do not pass an `input_shape`/`input_dim` argument to a layer. When using Sequential models, prefer using an `Input(shape)` object as the first layer in the model instead.\n",
            "  super().__init__(activity_regularizer=activity_regularizer, **kwargs)\n"
          ]
        },
        {
          "metadata": {
            "tags": null
          },
          "name": "stdout",
          "output_type": "stream",
          "text": [
            "Testing activation functions: ('relu', 'relu', 'relu', 'tanh') for Neurons=4, Layers=4\n"
          ]
        },
        {
          "metadata": {
            "tags": null
          },
          "name": "stderr",
          "output_type": "stream",
          "text": [
            "/usr/local/lib/python3.11/dist-packages/keras/src/layers/core/dense.py:87: UserWarning: Do not pass an `input_shape`/`input_dim` argument to a layer. When using Sequential models, prefer using an `Input(shape)` object as the first layer in the model instead.\n",
            "  super().__init__(activity_regularizer=activity_regularizer, **kwargs)\n"
          ]
        },
        {
          "metadata": {
            "tags": null
          },
          "name": "stdout",
          "output_type": "stream",
          "text": [
            "Testing activation functions: ('relu', 'relu', 'relu', 'sigmoid') for Neurons=4, Layers=4\n"
          ]
        },
        {
          "metadata": {
            "tags": null
          },
          "name": "stderr",
          "output_type": "stream",
          "text": [
            "/usr/local/lib/python3.11/dist-packages/keras/src/layers/core/dense.py:87: UserWarning: Do not pass an `input_shape`/`input_dim` argument to a layer. When using Sequential models, prefer using an `Input(shape)` object as the first layer in the model instead.\n",
            "  super().__init__(activity_regularizer=activity_regularizer, **kwargs)\n"
          ]
        },
        {
          "metadata": {
            "tags": null
          },
          "name": "stdout",
          "output_type": "stream",
          "text": [
            "Testing activation functions: ('relu', 'relu', 'relu', 'elu') for Neurons=4, Layers=4\n"
          ]
        },
        {
          "metadata": {
            "tags": null
          },
          "name": "stderr",
          "output_type": "stream",
          "text": [
            "/usr/local/lib/python3.11/dist-packages/keras/src/layers/core/dense.py:87: UserWarning: Do not pass an `input_shape`/`input_dim` argument to a layer. When using Sequential models, prefer using an `Input(shape)` object as the first layer in the model instead.\n",
            "  super().__init__(activity_regularizer=activity_regularizer, **kwargs)\n"
          ]
        },
        {
          "metadata": {
            "tags": null
          },
          "name": "stdout",
          "output_type": "stream",
          "text": [
            "Testing activation functions: ('relu', 'relu', 'tanh', 'relu') for Neurons=4, Layers=4\n"
          ]
        },
        {
          "metadata": {
            "tags": null
          },
          "name": "stderr",
          "output_type": "stream",
          "text": [
            "/usr/local/lib/python3.11/dist-packages/keras/src/layers/core/dense.py:87: UserWarning: Do not pass an `input_shape`/`input_dim` argument to a layer. When using Sequential models, prefer using an `Input(shape)` object as the first layer in the model instead.\n",
            "  super().__init__(activity_regularizer=activity_regularizer, **kwargs)\n"
          ]
        },
        {
          "metadata": {
            "tags": null
          },
          "name": "stdout",
          "output_type": "stream",
          "text": [
            "Testing activation functions: ('relu', 'relu', 'tanh', 'tanh') for Neurons=4, Layers=4\n"
          ]
        },
        {
          "metadata": {
            "tags": null
          },
          "name": "stderr",
          "output_type": "stream",
          "text": [
            "/usr/local/lib/python3.11/dist-packages/keras/src/layers/core/dense.py:87: UserWarning: Do not pass an `input_shape`/`input_dim` argument to a layer. When using Sequential models, prefer using an `Input(shape)` object as the first layer in the model instead.\n",
            "  super().__init__(activity_regularizer=activity_regularizer, **kwargs)\n"
          ]
        },
        {
          "metadata": {
            "tags": null
          },
          "name": "stdout",
          "output_type": "stream",
          "text": [
            "Testing activation functions: ('relu', 'relu', 'tanh', 'sigmoid') for Neurons=4, Layers=4\n"
          ]
        },
        {
          "metadata": {
            "tags": null
          },
          "name": "stderr",
          "output_type": "stream",
          "text": [
            "/usr/local/lib/python3.11/dist-packages/keras/src/layers/core/dense.py:87: UserWarning: Do not pass an `input_shape`/`input_dim` argument to a layer. When using Sequential models, prefer using an `Input(shape)` object as the first layer in the model instead.\n",
            "  super().__init__(activity_regularizer=activity_regularizer, **kwargs)\n"
          ]
        },
        {
          "metadata": {
            "tags": null
          },
          "name": "stdout",
          "output_type": "stream",
          "text": [
            "Testing activation functions: ('relu', 'relu', 'tanh', 'elu') for Neurons=4, Layers=4\n"
          ]
        },
        {
          "metadata": {
            "tags": null
          },
          "name": "stderr",
          "output_type": "stream",
          "text": [
            "/usr/local/lib/python3.11/dist-packages/keras/src/layers/core/dense.py:87: UserWarning: Do not pass an `input_shape`/`input_dim` argument to a layer. When using Sequential models, prefer using an `Input(shape)` object as the first layer in the model instead.\n",
            "  super().__init__(activity_regularizer=activity_regularizer, **kwargs)\n"
          ]
        },
        {
          "metadata": {
            "tags": null
          },
          "name": "stdout",
          "output_type": "stream",
          "text": [
            "Testing activation functions: ('relu', 'relu', 'sigmoid', 'relu') for Neurons=4, Layers=4\n"
          ]
        },
        {
          "metadata": {
            "tags": null
          },
          "name": "stderr",
          "output_type": "stream",
          "text": [
            "/usr/local/lib/python3.11/dist-packages/keras/src/layers/core/dense.py:87: UserWarning: Do not pass an `input_shape`/`input_dim` argument to a layer. When using Sequential models, prefer using an `Input(shape)` object as the first layer in the model instead.\n",
            "  super().__init__(activity_regularizer=activity_regularizer, **kwargs)\n"
          ]
        },
        {
          "metadata": {
            "tags": null
          },
          "name": "stdout",
          "output_type": "stream",
          "text": [
            "Testing activation functions: ('relu', 'relu', 'sigmoid', 'tanh') for Neurons=4, Layers=4\n"
          ]
        },
        {
          "metadata": {
            "tags": null
          },
          "name": "stderr",
          "output_type": "stream",
          "text": [
            "/usr/local/lib/python3.11/dist-packages/keras/src/layers/core/dense.py:87: UserWarning: Do not pass an `input_shape`/`input_dim` argument to a layer. When using Sequential models, prefer using an `Input(shape)` object as the first layer in the model instead.\n",
            "  super().__init__(activity_regularizer=activity_regularizer, **kwargs)\n"
          ]
        },
        {
          "metadata": {
            "tags": null
          },
          "name": "stdout",
          "output_type": "stream",
          "text": [
            "Testing activation functions: ('relu', 'relu', 'sigmoid', 'sigmoid') for Neurons=4, Layers=4\n"
          ]
        },
        {
          "metadata": {
            "tags": null
          },
          "name": "stderr",
          "output_type": "stream",
          "text": [
            "/usr/local/lib/python3.11/dist-packages/keras/src/layers/core/dense.py:87: UserWarning: Do not pass an `input_shape`/`input_dim` argument to a layer. When using Sequential models, prefer using an `Input(shape)` object as the first layer in the model instead.\n",
            "  super().__init__(activity_regularizer=activity_regularizer, **kwargs)\n"
          ]
        },
        {
          "metadata": {
            "tags": null
          },
          "name": "stdout",
          "output_type": "stream",
          "text": [
            "Testing activation functions: ('relu', 'relu', 'sigmoid', 'elu') for Neurons=4, Layers=4\n"
          ]
        },
        {
          "metadata": {
            "tags": null
          },
          "name": "stderr",
          "output_type": "stream",
          "text": [
            "/usr/local/lib/python3.11/dist-packages/keras/src/layers/core/dense.py:87: UserWarning: Do not pass an `input_shape`/`input_dim` argument to a layer. When using Sequential models, prefer using an `Input(shape)` object as the first layer in the model instead.\n",
            "  super().__init__(activity_regularizer=activity_regularizer, **kwargs)\n"
          ]
        },
        {
          "metadata": {
            "tags": null
          },
          "name": "stdout",
          "output_type": "stream",
          "text": [
            "Testing activation functions: ('relu', 'relu', 'elu', 'relu') for Neurons=4, Layers=4\n"
          ]
        },
        {
          "metadata": {
            "tags": null
          },
          "name": "stderr",
          "output_type": "stream",
          "text": [
            "/usr/local/lib/python3.11/dist-packages/keras/src/layers/core/dense.py:87: UserWarning: Do not pass an `input_shape`/`input_dim` argument to a layer. When using Sequential models, prefer using an `Input(shape)` object as the first layer in the model instead.\n",
            "  super().__init__(activity_regularizer=activity_regularizer, **kwargs)\n"
          ]
        },
        {
          "metadata": {
            "tags": null
          },
          "name": "stdout",
          "output_type": "stream",
          "text": [
            "Testing activation functions: ('relu', 'relu', 'elu', 'tanh') for Neurons=4, Layers=4\n"
          ]
        },
        {
          "metadata": {
            "tags": null
          },
          "name": "stderr",
          "output_type": "stream",
          "text": [
            "/usr/local/lib/python3.11/dist-packages/keras/src/layers/core/dense.py:87: UserWarning: Do not pass an `input_shape`/`input_dim` argument to a layer. When using Sequential models, prefer using an `Input(shape)` object as the first layer in the model instead.\n",
            "  super().__init__(activity_regularizer=activity_regularizer, **kwargs)\n"
          ]
        },
        {
          "metadata": {
            "tags": null
          },
          "name": "stdout",
          "output_type": "stream",
          "text": [
            "Testing activation functions: ('relu', 'relu', 'elu', 'sigmoid') for Neurons=4, Layers=4\n"
          ]
        },
        {
          "metadata": {
            "tags": null
          },
          "name": "stderr",
          "output_type": "stream",
          "text": [
            "/usr/local/lib/python3.11/dist-packages/keras/src/layers/core/dense.py:87: UserWarning: Do not pass an `input_shape`/`input_dim` argument to a layer. When using Sequential models, prefer using an `Input(shape)` object as the first layer in the model instead.\n",
            "  super().__init__(activity_regularizer=activity_regularizer, **kwargs)\n"
          ]
        },
        {
          "metadata": {
            "tags": null
          },
          "name": "stdout",
          "output_type": "stream",
          "text": [
            "Testing activation functions: ('relu', 'relu', 'elu', 'elu') for Neurons=4, Layers=4\n"
          ]
        },
        {
          "metadata": {
            "tags": null
          },
          "name": "stderr",
          "output_type": "stream",
          "text": [
            "/usr/local/lib/python3.11/dist-packages/keras/src/layers/core/dense.py:87: UserWarning: Do not pass an `input_shape`/`input_dim` argument to a layer. When using Sequential models, prefer using an `Input(shape)` object as the first layer in the model instead.\n",
            "  super().__init__(activity_regularizer=activity_regularizer, **kwargs)\n"
          ]
        },
        {
          "metadata": {
            "tags": null
          },
          "name": "stdout",
          "output_type": "stream",
          "text": [
            "Testing activation functions: ('relu', 'tanh', 'relu', 'relu') for Neurons=4, Layers=4\n"
          ]
        },
        {
          "metadata": {
            "tags": null
          },
          "name": "stderr",
          "output_type": "stream",
          "text": [
            "/usr/local/lib/python3.11/dist-packages/keras/src/layers/core/dense.py:87: UserWarning: Do not pass an `input_shape`/`input_dim` argument to a layer. When using Sequential models, prefer using an `Input(shape)` object as the first layer in the model instead.\n",
            "  super().__init__(activity_regularizer=activity_regularizer, **kwargs)\n"
          ]
        },
        {
          "metadata": {
            "tags": null
          },
          "name": "stdout",
          "output_type": "stream",
          "text": [
            "Testing activation functions: ('relu', 'tanh', 'relu', 'tanh') for Neurons=4, Layers=4\n"
          ]
        },
        {
          "metadata": {
            "tags": null
          },
          "name": "stderr",
          "output_type": "stream",
          "text": [
            "/usr/local/lib/python3.11/dist-packages/keras/src/layers/core/dense.py:87: UserWarning: Do not pass an `input_shape`/`input_dim` argument to a layer. When using Sequential models, prefer using an `Input(shape)` object as the first layer in the model instead.\n",
            "  super().__init__(activity_regularizer=activity_regularizer, **kwargs)\n"
          ]
        },
        {
          "metadata": {
            "tags": null
          },
          "name": "stdout",
          "output_type": "stream",
          "text": [
            "Testing activation functions: ('relu', 'tanh', 'relu', 'sigmoid') for Neurons=4, Layers=4\n"
          ]
        },
        {
          "metadata": {
            "tags": null
          },
          "name": "stderr",
          "output_type": "stream",
          "text": [
            "/usr/local/lib/python3.11/dist-packages/keras/src/layers/core/dense.py:87: UserWarning: Do not pass an `input_shape`/`input_dim` argument to a layer. When using Sequential models, prefer using an `Input(shape)` object as the first layer in the model instead.\n",
            "  super().__init__(activity_regularizer=activity_regularizer, **kwargs)\n"
          ]
        },
        {
          "metadata": {
            "tags": null
          },
          "name": "stdout",
          "output_type": "stream",
          "text": [
            "Testing activation functions: ('relu', 'tanh', 'relu', 'elu') for Neurons=4, Layers=4\n"
          ]
        },
        {
          "metadata": {
            "tags": null
          },
          "name": "stderr",
          "output_type": "stream",
          "text": [
            "/usr/local/lib/python3.11/dist-packages/keras/src/layers/core/dense.py:87: UserWarning: Do not pass an `input_shape`/`input_dim` argument to a layer. When using Sequential models, prefer using an `Input(shape)` object as the first layer in the model instead.\n",
            "  super().__init__(activity_regularizer=activity_regularizer, **kwargs)\n"
          ]
        },
        {
          "metadata": {
            "tags": null
          },
          "name": "stdout",
          "output_type": "stream",
          "text": [
            "Best Activation Set for Neurons=4, Layers=4: ['relu', 'relu', 'elu', 'tanh'] -> Accuracy: 0.8925233483314514\n",
            "New Overall Best Accuracy: 0.8925233483314514 with Configuration: {'neurons': 4, 'layers': 4, 'activation_list': ['relu', 'relu', 'elu', 'tanh'], 'dropout_rate': 0.3, 'optimizer': 'adam', 'learning_rate': 0.001, 'batch_size': 16, 'regularization': None, 'batch_norm': False}\n",
            "Testing activation functions: ('relu', 'relu', 'relu', 'relu') for Neurons=8, Layers=4\n"
          ]
        },
        {
          "metadata": {
            "tags": null
          },
          "name": "stderr",
          "output_type": "stream",
          "text": [
            "/usr/local/lib/python3.11/dist-packages/keras/src/layers/core/dense.py:87: UserWarning: Do not pass an `input_shape`/`input_dim` argument to a layer. When using Sequential models, prefer using an `Input(shape)` object as the first layer in the model instead.\n",
            "  super().__init__(activity_regularizer=activity_regularizer, **kwargs)\n"
          ]
        },
        {
          "metadata": {
            "tags": null
          },
          "name": "stdout",
          "output_type": "stream",
          "text": [
            "Testing activation functions: ('relu', 'relu', 'relu', 'tanh') for Neurons=8, Layers=4\n"
          ]
        },
        {
          "metadata": {
            "tags": null
          },
          "name": "stderr",
          "output_type": "stream",
          "text": [
            "/usr/local/lib/python3.11/dist-packages/keras/src/layers/core/dense.py:87: UserWarning: Do not pass an `input_shape`/`input_dim` argument to a layer. When using Sequential models, prefer using an `Input(shape)` object as the first layer in the model instead.\n",
            "  super().__init__(activity_regularizer=activity_regularizer, **kwargs)\n"
          ]
        },
        {
          "metadata": {
            "tags": null
          },
          "name": "stdout",
          "output_type": "stream",
          "text": [
            "Testing activation functions: ('relu', 'relu', 'relu', 'sigmoid') for Neurons=8, Layers=4\n"
          ]
        },
        {
          "metadata": {
            "tags": null
          },
          "name": "stderr",
          "output_type": "stream",
          "text": [
            "/usr/local/lib/python3.11/dist-packages/keras/src/layers/core/dense.py:87: UserWarning: Do not pass an `input_shape`/`input_dim` argument to a layer. When using Sequential models, prefer using an `Input(shape)` object as the first layer in the model instead.\n",
            "  super().__init__(activity_regularizer=activity_regularizer, **kwargs)\n"
          ]
        },
        {
          "metadata": {
            "tags": null
          },
          "name": "stdout",
          "output_type": "stream",
          "text": [
            "Testing activation functions: ('relu', 'relu', 'relu', 'elu') for Neurons=8, Layers=4\n"
          ]
        },
        {
          "metadata": {
            "tags": null
          },
          "name": "stderr",
          "output_type": "stream",
          "text": [
            "/usr/local/lib/python3.11/dist-packages/keras/src/layers/core/dense.py:87: UserWarning: Do not pass an `input_shape`/`input_dim` argument to a layer. When using Sequential models, prefer using an `Input(shape)` object as the first layer in the model instead.\n",
            "  super().__init__(activity_regularizer=activity_regularizer, **kwargs)\n"
          ]
        },
        {
          "metadata": {
            "tags": null
          },
          "name": "stdout",
          "output_type": "stream",
          "text": [
            "Testing activation functions: ('relu', 'relu', 'tanh', 'relu') for Neurons=8, Layers=4\n"
          ]
        },
        {
          "metadata": {
            "tags": null
          },
          "name": "stderr",
          "output_type": "stream",
          "text": [
            "/usr/local/lib/python3.11/dist-packages/keras/src/layers/core/dense.py:87: UserWarning: Do not pass an `input_shape`/`input_dim` argument to a layer. When using Sequential models, prefer using an `Input(shape)` object as the first layer in the model instead.\n",
            "  super().__init__(activity_regularizer=activity_regularizer, **kwargs)\n"
          ]
        },
        {
          "metadata": {
            "tags": null
          },
          "name": "stdout",
          "output_type": "stream",
          "text": [
            "Testing activation functions: ('relu', 'relu', 'tanh', 'tanh') for Neurons=8, Layers=4\n"
          ]
        },
        {
          "metadata": {
            "tags": null
          },
          "name": "stderr",
          "output_type": "stream",
          "text": [
            "/usr/local/lib/python3.11/dist-packages/keras/src/layers/core/dense.py:87: UserWarning: Do not pass an `input_shape`/`input_dim` argument to a layer. When using Sequential models, prefer using an `Input(shape)` object as the first layer in the model instead.\n",
            "  super().__init__(activity_regularizer=activity_regularizer, **kwargs)\n"
          ]
        },
        {
          "metadata": {
            "tags": null
          },
          "name": "stdout",
          "output_type": "stream",
          "text": [
            "Testing activation functions: ('relu', 'relu', 'tanh', 'sigmoid') for Neurons=8, Layers=4\n"
          ]
        },
        {
          "metadata": {
            "tags": null
          },
          "name": "stderr",
          "output_type": "stream",
          "text": [
            "/usr/local/lib/python3.11/dist-packages/keras/src/layers/core/dense.py:87: UserWarning: Do not pass an `input_shape`/`input_dim` argument to a layer. When using Sequential models, prefer using an `Input(shape)` object as the first layer in the model instead.\n",
            "  super().__init__(activity_regularizer=activity_regularizer, **kwargs)\n"
          ]
        },
        {
          "metadata": {
            "tags": null
          },
          "name": "stdout",
          "output_type": "stream",
          "text": [
            "Testing activation functions: ('relu', 'relu', 'tanh', 'elu') for Neurons=8, Layers=4\n"
          ]
        },
        {
          "metadata": {
            "tags": null
          },
          "name": "stderr",
          "output_type": "stream",
          "text": [
            "/usr/local/lib/python3.11/dist-packages/keras/src/layers/core/dense.py:87: UserWarning: Do not pass an `input_shape`/`input_dim` argument to a layer. When using Sequential models, prefer using an `Input(shape)` object as the first layer in the model instead.\n",
            "  super().__init__(activity_regularizer=activity_regularizer, **kwargs)\n"
          ]
        },
        {
          "metadata": {
            "tags": null
          },
          "name": "stdout",
          "output_type": "stream",
          "text": [
            "Testing activation functions: ('relu', 'relu', 'sigmoid', 'relu') for Neurons=8, Layers=4\n"
          ]
        },
        {
          "metadata": {
            "tags": null
          },
          "name": "stderr",
          "output_type": "stream",
          "text": [
            "/usr/local/lib/python3.11/dist-packages/keras/src/layers/core/dense.py:87: UserWarning: Do not pass an `input_shape`/`input_dim` argument to a layer. When using Sequential models, prefer using an `Input(shape)` object as the first layer in the model instead.\n",
            "  super().__init__(activity_regularizer=activity_regularizer, **kwargs)\n"
          ]
        },
        {
          "metadata": {
            "tags": null
          },
          "name": "stdout",
          "output_type": "stream",
          "text": [
            "Testing activation functions: ('relu', 'relu', 'sigmoid', 'tanh') for Neurons=8, Layers=4\n"
          ]
        },
        {
          "metadata": {
            "tags": null
          },
          "name": "stderr",
          "output_type": "stream",
          "text": [
            "/usr/local/lib/python3.11/dist-packages/keras/src/layers/core/dense.py:87: UserWarning: Do not pass an `input_shape`/`input_dim` argument to a layer. When using Sequential models, prefer using an `Input(shape)` object as the first layer in the model instead.\n",
            "  super().__init__(activity_regularizer=activity_regularizer, **kwargs)\n"
          ]
        },
        {
          "metadata": {
            "tags": null
          },
          "name": "stdout",
          "output_type": "stream",
          "text": [
            "Testing activation functions: ('relu', 'relu', 'sigmoid', 'sigmoid') for Neurons=8, Layers=4\n"
          ]
        },
        {
          "metadata": {
            "tags": null
          },
          "name": "stderr",
          "output_type": "stream",
          "text": [
            "/usr/local/lib/python3.11/dist-packages/keras/src/layers/core/dense.py:87: UserWarning: Do not pass an `input_shape`/`input_dim` argument to a layer. When using Sequential models, prefer using an `Input(shape)` object as the first layer in the model instead.\n",
            "  super().__init__(activity_regularizer=activity_regularizer, **kwargs)\n"
          ]
        },
        {
          "metadata": {
            "tags": null
          },
          "name": "stdout",
          "output_type": "stream",
          "text": [
            "Testing activation functions: ('relu', 'relu', 'sigmoid', 'elu') for Neurons=8, Layers=4\n"
          ]
        },
        {
          "metadata": {
            "tags": null
          },
          "name": "stderr",
          "output_type": "stream",
          "text": [
            "/usr/local/lib/python3.11/dist-packages/keras/src/layers/core/dense.py:87: UserWarning: Do not pass an `input_shape`/`input_dim` argument to a layer. When using Sequential models, prefer using an `Input(shape)` object as the first layer in the model instead.\n",
            "  super().__init__(activity_regularizer=activity_regularizer, **kwargs)\n"
          ]
        },
        {
          "metadata": {
            "tags": null
          },
          "name": "stdout",
          "output_type": "stream",
          "text": [
            "Testing activation functions: ('relu', 'relu', 'elu', 'relu') for Neurons=8, Layers=4\n"
          ]
        },
        {
          "metadata": {
            "tags": null
          },
          "name": "stderr",
          "output_type": "stream",
          "text": [
            "/usr/local/lib/python3.11/dist-packages/keras/src/layers/core/dense.py:87: UserWarning: Do not pass an `input_shape`/`input_dim` argument to a layer. When using Sequential models, prefer using an `Input(shape)` object as the first layer in the model instead.\n",
            "  super().__init__(activity_regularizer=activity_regularizer, **kwargs)\n"
          ]
        },
        {
          "metadata": {
            "tags": null
          },
          "name": "stdout",
          "output_type": "stream",
          "text": [
            "Testing activation functions: ('relu', 'relu', 'elu', 'tanh') for Neurons=8, Layers=4\n"
          ]
        },
        {
          "metadata": {
            "tags": null
          },
          "name": "stderr",
          "output_type": "stream",
          "text": [
            "/usr/local/lib/python3.11/dist-packages/keras/src/layers/core/dense.py:87: UserWarning: Do not pass an `input_shape`/`input_dim` argument to a layer. When using Sequential models, prefer using an `Input(shape)` object as the first layer in the model instead.\n",
            "  super().__init__(activity_regularizer=activity_regularizer, **kwargs)\n"
          ]
        },
        {
          "metadata": {
            "tags": null
          },
          "name": "stdout",
          "output_type": "stream",
          "text": [
            "Testing activation functions: ('relu', 'relu', 'elu', 'sigmoid') for Neurons=8, Layers=4\n"
          ]
        },
        {
          "metadata": {
            "tags": null
          },
          "name": "stderr",
          "output_type": "stream",
          "text": [
            "/usr/local/lib/python3.11/dist-packages/keras/src/layers/core/dense.py:87: UserWarning: Do not pass an `input_shape`/`input_dim` argument to a layer. When using Sequential models, prefer using an `Input(shape)` object as the first layer in the model instead.\n",
            "  super().__init__(activity_regularizer=activity_regularizer, **kwargs)\n"
          ]
        },
        {
          "metadata": {
            "tags": null
          },
          "name": "stdout",
          "output_type": "stream",
          "text": [
            "Testing activation functions: ('relu', 'relu', 'elu', 'elu') for Neurons=8, Layers=4\n"
          ]
        },
        {
          "metadata": {
            "tags": null
          },
          "name": "stderr",
          "output_type": "stream",
          "text": [
            "/usr/local/lib/python3.11/dist-packages/keras/src/layers/core/dense.py:87: UserWarning: Do not pass an `input_shape`/`input_dim` argument to a layer. When using Sequential models, prefer using an `Input(shape)` object as the first layer in the model instead.\n",
            "  super().__init__(activity_regularizer=activity_regularizer, **kwargs)\n"
          ]
        },
        {
          "metadata": {
            "tags": null
          },
          "name": "stdout",
          "output_type": "stream",
          "text": [
            "Testing activation functions: ('relu', 'tanh', 'relu', 'relu') for Neurons=8, Layers=4\n"
          ]
        },
        {
          "metadata": {
            "tags": null
          },
          "name": "stderr",
          "output_type": "stream",
          "text": [
            "/usr/local/lib/python3.11/dist-packages/keras/src/layers/core/dense.py:87: UserWarning: Do not pass an `input_shape`/`input_dim` argument to a layer. When using Sequential models, prefer using an `Input(shape)` object as the first layer in the model instead.\n",
            "  super().__init__(activity_regularizer=activity_regularizer, **kwargs)\n"
          ]
        },
        {
          "metadata": {
            "tags": null
          },
          "name": "stdout",
          "output_type": "stream",
          "text": [
            "Testing activation functions: ('relu', 'tanh', 'relu', 'tanh') for Neurons=8, Layers=4\n"
          ]
        },
        {
          "metadata": {
            "tags": null
          },
          "name": "stderr",
          "output_type": "stream",
          "text": [
            "/usr/local/lib/python3.11/dist-packages/keras/src/layers/core/dense.py:87: UserWarning: Do not pass an `input_shape`/`input_dim` argument to a layer. When using Sequential models, prefer using an `Input(shape)` object as the first layer in the model instead.\n",
            "  super().__init__(activity_regularizer=activity_regularizer, **kwargs)\n"
          ]
        },
        {
          "metadata": {
            "tags": null
          },
          "name": "stdout",
          "output_type": "stream",
          "text": [
            "Testing activation functions: ('relu', 'tanh', 'relu', 'sigmoid') for Neurons=8, Layers=4\n"
          ]
        },
        {
          "metadata": {
            "tags": null
          },
          "name": "stderr",
          "output_type": "stream",
          "text": [
            "/usr/local/lib/python3.11/dist-packages/keras/src/layers/core/dense.py:87: UserWarning: Do not pass an `input_shape`/`input_dim` argument to a layer. When using Sequential models, prefer using an `Input(shape)` object as the first layer in the model instead.\n",
            "  super().__init__(activity_regularizer=activity_regularizer, **kwargs)\n"
          ]
        },
        {
          "metadata": {
            "tags": null
          },
          "name": "stdout",
          "output_type": "stream",
          "text": [
            "Testing activation functions: ('relu', 'tanh', 'relu', 'elu') for Neurons=8, Layers=4\n"
          ]
        },
        {
          "metadata": {
            "tags": null
          },
          "name": "stderr",
          "output_type": "stream",
          "text": [
            "/usr/local/lib/python3.11/dist-packages/keras/src/layers/core/dense.py:87: UserWarning: Do not pass an `input_shape`/`input_dim` argument to a layer. When using Sequential models, prefer using an `Input(shape)` object as the first layer in the model instead.\n",
            "  super().__init__(activity_regularizer=activity_regularizer, **kwargs)\n"
          ]
        },
        {
          "metadata": {
            "tags": null
          },
          "name": "stdout",
          "output_type": "stream",
          "text": [
            "Best Activation Set for Neurons=8, Layers=4: ['relu', 'relu', 'tanh', 'tanh'] -> Accuracy: 0.894859790802002\n",
            "New Overall Best Accuracy: 0.894859790802002 with Configuration: {'neurons': 8, 'layers': 4, 'activation_list': ['relu', 'relu', 'tanh', 'tanh'], 'dropout_rate': 0.3, 'optimizer': 'adam', 'learning_rate': 0.001, 'batch_size': 16, 'regularization': None, 'batch_norm': False}\n",
            "Testing activation functions: ('relu', 'relu', 'relu', 'relu') for Neurons=16, Layers=4\n"
          ]
        },
        {
          "metadata": {
            "tags": null
          },
          "name": "stderr",
          "output_type": "stream",
          "text": [
            "/usr/local/lib/python3.11/dist-packages/keras/src/layers/core/dense.py:87: UserWarning: Do not pass an `input_shape`/`input_dim` argument to a layer. When using Sequential models, prefer using an `Input(shape)` object as the first layer in the model instead.\n",
            "  super().__init__(activity_regularizer=activity_regularizer, **kwargs)\n"
          ]
        },
        {
          "metadata": {
            "tags": null
          },
          "name": "stdout",
          "output_type": "stream",
          "text": [
            "Testing activation functions: ('relu', 'relu', 'relu', 'tanh') for Neurons=16, Layers=4\n"
          ]
        },
        {
          "metadata": {
            "tags": null
          },
          "name": "stderr",
          "output_type": "stream",
          "text": [
            "/usr/local/lib/python3.11/dist-packages/keras/src/layers/core/dense.py:87: UserWarning: Do not pass an `input_shape`/`input_dim` argument to a layer. When using Sequential models, prefer using an `Input(shape)` object as the first layer in the model instead.\n",
            "  super().__init__(activity_regularizer=activity_regularizer, **kwargs)\n"
          ]
        },
        {
          "metadata": {
            "tags": null
          },
          "name": "stdout",
          "output_type": "stream",
          "text": [
            "Testing activation functions: ('relu', 'relu', 'relu', 'sigmoid') for Neurons=16, Layers=4\n"
          ]
        },
        {
          "metadata": {
            "tags": null
          },
          "name": "stderr",
          "output_type": "stream",
          "text": [
            "/usr/local/lib/python3.11/dist-packages/keras/src/layers/core/dense.py:87: UserWarning: Do not pass an `input_shape`/`input_dim` argument to a layer. When using Sequential models, prefer using an `Input(shape)` object as the first layer in the model instead.\n",
            "  super().__init__(activity_regularizer=activity_regularizer, **kwargs)\n"
          ]
        },
        {
          "metadata": {
            "tags": null
          },
          "name": "stdout",
          "output_type": "stream",
          "text": [
            "Testing activation functions: ('relu', 'relu', 'relu', 'elu') for Neurons=16, Layers=4\n"
          ]
        },
        {
          "metadata": {
            "tags": null
          },
          "name": "stderr",
          "output_type": "stream",
          "text": [
            "/usr/local/lib/python3.11/dist-packages/keras/src/layers/core/dense.py:87: UserWarning: Do not pass an `input_shape`/`input_dim` argument to a layer. When using Sequential models, prefer using an `Input(shape)` object as the first layer in the model instead.\n",
            "  super().__init__(activity_regularizer=activity_regularizer, **kwargs)\n"
          ]
        },
        {
          "metadata": {
            "tags": null
          },
          "name": "stdout",
          "output_type": "stream",
          "text": [
            "Testing activation functions: ('relu', 'relu', 'tanh', 'relu') for Neurons=16, Layers=4\n"
          ]
        },
        {
          "metadata": {
            "tags": null
          },
          "name": "stderr",
          "output_type": "stream",
          "text": [
            "/usr/local/lib/python3.11/dist-packages/keras/src/layers/core/dense.py:87: UserWarning: Do not pass an `input_shape`/`input_dim` argument to a layer. When using Sequential models, prefer using an `Input(shape)` object as the first layer in the model instead.\n",
            "  super().__init__(activity_regularizer=activity_regularizer, **kwargs)\n"
          ]
        },
        {
          "metadata": {
            "tags": null
          },
          "name": "stdout",
          "output_type": "stream",
          "text": [
            "Testing activation functions: ('relu', 'relu', 'tanh', 'tanh') for Neurons=16, Layers=4\n"
          ]
        },
        {
          "metadata": {
            "tags": null
          },
          "name": "stderr",
          "output_type": "stream",
          "text": [
            "/usr/local/lib/python3.11/dist-packages/keras/src/layers/core/dense.py:87: UserWarning: Do not pass an `input_shape`/`input_dim` argument to a layer. When using Sequential models, prefer using an `Input(shape)` object as the first layer in the model instead.\n",
            "  super().__init__(activity_regularizer=activity_regularizer, **kwargs)\n"
          ]
        },
        {
          "metadata": {
            "tags": null
          },
          "name": "stdout",
          "output_type": "stream",
          "text": [
            "Testing activation functions: ('relu', 'relu', 'tanh', 'sigmoid') for Neurons=16, Layers=4\n"
          ]
        },
        {
          "metadata": {
            "tags": null
          },
          "name": "stderr",
          "output_type": "stream",
          "text": [
            "/usr/local/lib/python3.11/dist-packages/keras/src/layers/core/dense.py:87: UserWarning: Do not pass an `input_shape`/`input_dim` argument to a layer. When using Sequential models, prefer using an `Input(shape)` object as the first layer in the model instead.\n",
            "  super().__init__(activity_regularizer=activity_regularizer, **kwargs)\n"
          ]
        },
        {
          "metadata": {
            "tags": null
          },
          "name": "stdout",
          "output_type": "stream",
          "text": [
            "Testing activation functions: ('relu', 'relu', 'tanh', 'elu') for Neurons=16, Layers=4\n"
          ]
        },
        {
          "metadata": {
            "tags": null
          },
          "name": "stderr",
          "output_type": "stream",
          "text": [
            "/usr/local/lib/python3.11/dist-packages/keras/src/layers/core/dense.py:87: UserWarning: Do not pass an `input_shape`/`input_dim` argument to a layer. When using Sequential models, prefer using an `Input(shape)` object as the first layer in the model instead.\n",
            "  super().__init__(activity_regularizer=activity_regularizer, **kwargs)\n"
          ]
        },
        {
          "metadata": {
            "tags": null
          },
          "name": "stdout",
          "output_type": "stream",
          "text": [
            "Testing activation functions: ('relu', 'relu', 'sigmoid', 'relu') for Neurons=16, Layers=4\n"
          ]
        },
        {
          "metadata": {
            "tags": null
          },
          "name": "stderr",
          "output_type": "stream",
          "text": [
            "/usr/local/lib/python3.11/dist-packages/keras/src/layers/core/dense.py:87: UserWarning: Do not pass an `input_shape`/`input_dim` argument to a layer. When using Sequential models, prefer using an `Input(shape)` object as the first layer in the model instead.\n",
            "  super().__init__(activity_regularizer=activity_regularizer, **kwargs)\n"
          ]
        },
        {
          "metadata": {
            "tags": null
          },
          "name": "stdout",
          "output_type": "stream",
          "text": [
            "Testing activation functions: ('relu', 'relu', 'sigmoid', 'tanh') for Neurons=16, Layers=4\n"
          ]
        },
        {
          "metadata": {
            "tags": null
          },
          "name": "stderr",
          "output_type": "stream",
          "text": [
            "/usr/local/lib/python3.11/dist-packages/keras/src/layers/core/dense.py:87: UserWarning: Do not pass an `input_shape`/`input_dim` argument to a layer. When using Sequential models, prefer using an `Input(shape)` object as the first layer in the model instead.\n",
            "  super().__init__(activity_regularizer=activity_regularizer, **kwargs)\n"
          ]
        },
        {
          "metadata": {
            "tags": null
          },
          "name": "stdout",
          "output_type": "stream",
          "text": [
            "Testing activation functions: ('relu', 'relu', 'sigmoid', 'sigmoid') for Neurons=16, Layers=4\n"
          ]
        },
        {
          "metadata": {
            "tags": null
          },
          "name": "stderr",
          "output_type": "stream",
          "text": [
            "/usr/local/lib/python3.11/dist-packages/keras/src/layers/core/dense.py:87: UserWarning: Do not pass an `input_shape`/`input_dim` argument to a layer. When using Sequential models, prefer using an `Input(shape)` object as the first layer in the model instead.\n",
            "  super().__init__(activity_regularizer=activity_regularizer, **kwargs)\n"
          ]
        },
        {
          "metadata": {
            "tags": null
          },
          "name": "stdout",
          "output_type": "stream",
          "text": [
            "Testing activation functions: ('relu', 'relu', 'sigmoid', 'elu') for Neurons=16, Layers=4\n"
          ]
        },
        {
          "metadata": {
            "tags": null
          },
          "name": "stderr",
          "output_type": "stream",
          "text": [
            "/usr/local/lib/python3.11/dist-packages/keras/src/layers/core/dense.py:87: UserWarning: Do not pass an `input_shape`/`input_dim` argument to a layer. When using Sequential models, prefer using an `Input(shape)` object as the first layer in the model instead.\n",
            "  super().__init__(activity_regularizer=activity_regularizer, **kwargs)\n"
          ]
        },
        {
          "metadata": {
            "tags": null
          },
          "name": "stdout",
          "output_type": "stream",
          "text": [
            "Testing activation functions: ('relu', 'relu', 'elu', 'relu') for Neurons=16, Layers=4\n"
          ]
        },
        {
          "metadata": {
            "tags": null
          },
          "name": "stderr",
          "output_type": "stream",
          "text": [
            "/usr/local/lib/python3.11/dist-packages/keras/src/layers/core/dense.py:87: UserWarning: Do not pass an `input_shape`/`input_dim` argument to a layer. When using Sequential models, prefer using an `Input(shape)` object as the first layer in the model instead.\n",
            "  super().__init__(activity_regularizer=activity_regularizer, **kwargs)\n"
          ]
        },
        {
          "metadata": {
            "tags": null
          },
          "name": "stdout",
          "output_type": "stream",
          "text": [
            "Testing activation functions: ('relu', 'relu', 'elu', 'tanh') for Neurons=16, Layers=4\n"
          ]
        },
        {
          "metadata": {
            "tags": null
          },
          "name": "stderr",
          "output_type": "stream",
          "text": [
            "/usr/local/lib/python3.11/dist-packages/keras/src/layers/core/dense.py:87: UserWarning: Do not pass an `input_shape`/`input_dim` argument to a layer. When using Sequential models, prefer using an `Input(shape)` object as the first layer in the model instead.\n",
            "  super().__init__(activity_regularizer=activity_regularizer, **kwargs)\n"
          ]
        },
        {
          "metadata": {
            "tags": null
          },
          "name": "stdout",
          "output_type": "stream",
          "text": [
            "Testing activation functions: ('relu', 'relu', 'elu', 'sigmoid') for Neurons=16, Layers=4\n"
          ]
        },
        {
          "metadata": {
            "tags": null
          },
          "name": "stderr",
          "output_type": "stream",
          "text": [
            "/usr/local/lib/python3.11/dist-packages/keras/src/layers/core/dense.py:87: UserWarning: Do not pass an `input_shape`/`input_dim` argument to a layer. When using Sequential models, prefer using an `Input(shape)` object as the first layer in the model instead.\n",
            "  super().__init__(activity_regularizer=activity_regularizer, **kwargs)\n"
          ]
        },
        {
          "metadata": {
            "tags": null
          },
          "name": "stdout",
          "output_type": "stream",
          "text": [
            "Testing activation functions: ('relu', 'relu', 'elu', 'elu') for Neurons=16, Layers=4\n"
          ]
        },
        {
          "metadata": {
            "tags": null
          },
          "name": "stderr",
          "output_type": "stream",
          "text": [
            "/usr/local/lib/python3.11/dist-packages/keras/src/layers/core/dense.py:87: UserWarning: Do not pass an `input_shape`/`input_dim` argument to a layer. When using Sequential models, prefer using an `Input(shape)` object as the first layer in the model instead.\n",
            "  super().__init__(activity_regularizer=activity_regularizer, **kwargs)\n"
          ]
        },
        {
          "metadata": {
            "tags": null
          },
          "name": "stdout",
          "output_type": "stream",
          "text": [
            "Testing activation functions: ('relu', 'tanh', 'relu', 'relu') for Neurons=16, Layers=4\n"
          ]
        },
        {
          "metadata": {
            "tags": null
          },
          "name": "stderr",
          "output_type": "stream",
          "text": [
            "/usr/local/lib/python3.11/dist-packages/keras/src/layers/core/dense.py:87: UserWarning: Do not pass an `input_shape`/`input_dim` argument to a layer. When using Sequential models, prefer using an `Input(shape)` object as the first layer in the model instead.\n",
            "  super().__init__(activity_regularizer=activity_regularizer, **kwargs)\n"
          ]
        },
        {
          "metadata": {
            "tags": null
          },
          "name": "stdout",
          "output_type": "stream",
          "text": [
            "Testing activation functions: ('relu', 'tanh', 'relu', 'tanh') for Neurons=16, Layers=4\n"
          ]
        },
        {
          "metadata": {
            "tags": null
          },
          "name": "stderr",
          "output_type": "stream",
          "text": [
            "/usr/local/lib/python3.11/dist-packages/keras/src/layers/core/dense.py:87: UserWarning: Do not pass an `input_shape`/`input_dim` argument to a layer. When using Sequential models, prefer using an `Input(shape)` object as the first layer in the model instead.\n",
            "  super().__init__(activity_regularizer=activity_regularizer, **kwargs)\n"
          ]
        },
        {
          "metadata": {
            "tags": null
          },
          "name": "stdout",
          "output_type": "stream",
          "text": [
            "Testing activation functions: ('relu', 'tanh', 'relu', 'sigmoid') for Neurons=16, Layers=4\n"
          ]
        },
        {
          "metadata": {
            "tags": null
          },
          "name": "stderr",
          "output_type": "stream",
          "text": [
            "/usr/local/lib/python3.11/dist-packages/keras/src/layers/core/dense.py:87: UserWarning: Do not pass an `input_shape`/`input_dim` argument to a layer. When using Sequential models, prefer using an `Input(shape)` object as the first layer in the model instead.\n",
            "  super().__init__(activity_regularizer=activity_regularizer, **kwargs)\n"
          ]
        },
        {
          "metadata": {
            "tags": null
          },
          "name": "stdout",
          "output_type": "stream",
          "text": [
            "Testing activation functions: ('relu', 'tanh', 'relu', 'elu') for Neurons=16, Layers=4\n"
          ]
        },
        {
          "metadata": {
            "tags": null
          },
          "name": "stderr",
          "output_type": "stream",
          "text": [
            "/usr/local/lib/python3.11/dist-packages/keras/src/layers/core/dense.py:87: UserWarning: Do not pass an `input_shape`/`input_dim` argument to a layer. When using Sequential models, prefer using an `Input(shape)` object as the first layer in the model instead.\n",
            "  super().__init__(activity_regularizer=activity_regularizer, **kwargs)\n"
          ]
        },
        {
          "metadata": {
            "tags": null
          },
          "name": "stdout",
          "output_type": "stream",
          "text": [
            "Best Activation Set for Neurons=16, Layers=4: ['relu', 'relu', 'elu', 'sigmoid'] -> Accuracy: 0.895638644695282\n",
            "New Overall Best Accuracy: 0.895638644695282 with Configuration: {'neurons': 16, 'layers': 4, 'activation_list': ['relu', 'relu', 'elu', 'sigmoid'], 'dropout_rate': 0.3, 'optimizer': 'adam', 'learning_rate': 0.001, 'batch_size': 16, 'regularization': None, 'batch_norm': False}\n",
            "Testing activation functions: ('relu', 'relu', 'relu', 'relu') for Neurons=32, Layers=4\n"
          ]
        },
        {
          "metadata": {
            "tags": null
          },
          "name": "stderr",
          "output_type": "stream",
          "text": [
            "/usr/local/lib/python3.11/dist-packages/keras/src/layers/core/dense.py:87: UserWarning: Do not pass an `input_shape`/`input_dim` argument to a layer. When using Sequential models, prefer using an `Input(shape)` object as the first layer in the model instead.\n",
            "  super().__init__(activity_regularizer=activity_regularizer, **kwargs)\n"
          ]
        },
        {
          "metadata": {
            "tags": null
          },
          "name": "stdout",
          "output_type": "stream",
          "text": [
            "Testing activation functions: ('relu', 'relu', 'relu', 'tanh') for Neurons=32, Layers=4\n"
          ]
        },
        {
          "metadata": {
            "tags": null
          },
          "name": "stderr",
          "output_type": "stream",
          "text": [
            "/usr/local/lib/python3.11/dist-packages/keras/src/layers/core/dense.py:87: UserWarning: Do not pass an `input_shape`/`input_dim` argument to a layer. When using Sequential models, prefer using an `Input(shape)` object as the first layer in the model instead.\n",
            "  super().__init__(activity_regularizer=activity_regularizer, **kwargs)\n"
          ]
        },
        {
          "metadata": {
            "tags": null
          },
          "name": "stdout",
          "output_type": "stream",
          "text": [
            "Testing activation functions: ('relu', 'relu', 'relu', 'sigmoid') for Neurons=32, Layers=4\n"
          ]
        },
        {
          "metadata": {
            "tags": null
          },
          "name": "stderr",
          "output_type": "stream",
          "text": [
            "/usr/local/lib/python3.11/dist-packages/keras/src/layers/core/dense.py:87: UserWarning: Do not pass an `input_shape`/`input_dim` argument to a layer. When using Sequential models, prefer using an `Input(shape)` object as the first layer in the model instead.\n",
            "  super().__init__(activity_regularizer=activity_regularizer, **kwargs)\n"
          ]
        },
        {
          "metadata": {
            "tags": null
          },
          "name": "stdout",
          "output_type": "stream",
          "text": [
            "Testing activation functions: ('relu', 'relu', 'relu', 'elu') for Neurons=32, Layers=4\n"
          ]
        },
        {
          "metadata": {
            "tags": null
          },
          "name": "stderr",
          "output_type": "stream",
          "text": [
            "/usr/local/lib/python3.11/dist-packages/keras/src/layers/core/dense.py:87: UserWarning: Do not pass an `input_shape`/`input_dim` argument to a layer. When using Sequential models, prefer using an `Input(shape)` object as the first layer in the model instead.\n",
            "  super().__init__(activity_regularizer=activity_regularizer, **kwargs)\n"
          ]
        },
        {
          "metadata": {
            "tags": null
          },
          "name": "stdout",
          "output_type": "stream",
          "text": [
            "Testing activation functions: ('relu', 'relu', 'tanh', 'relu') for Neurons=32, Layers=4\n"
          ]
        },
        {
          "metadata": {
            "tags": null
          },
          "name": "stderr",
          "output_type": "stream",
          "text": [
            "/usr/local/lib/python3.11/dist-packages/keras/src/layers/core/dense.py:87: UserWarning: Do not pass an `input_shape`/`input_dim` argument to a layer. When using Sequential models, prefer using an `Input(shape)` object as the first layer in the model instead.\n",
            "  super().__init__(activity_regularizer=activity_regularizer, **kwargs)\n"
          ]
        },
        {
          "metadata": {
            "tags": null
          },
          "name": "stdout",
          "output_type": "stream",
          "text": [
            "Testing activation functions: ('relu', 'relu', 'tanh', 'tanh') for Neurons=32, Layers=4\n"
          ]
        },
        {
          "metadata": {
            "tags": null
          },
          "name": "stderr",
          "output_type": "stream",
          "text": [
            "/usr/local/lib/python3.11/dist-packages/keras/src/layers/core/dense.py:87: UserWarning: Do not pass an `input_shape`/`input_dim` argument to a layer. When using Sequential models, prefer using an `Input(shape)` object as the first layer in the model instead.\n",
            "  super().__init__(activity_regularizer=activity_regularizer, **kwargs)\n"
          ]
        },
        {
          "output_type": "stream",
          "name": "stdout",
          "text": [
            "Testing activation functions: ('relu', 'relu', 'tanh', 'sigmoid') for Neurons=32, Layers=4\n"
          ]
        },
        {
          "output_type": "stream",
          "name": "stderr",
          "text": [
            "/usr/local/lib/python3.11/dist-packages/keras/src/layers/core/dense.py:87: UserWarning: Do not pass an `input_shape`/`input_dim` argument to a layer. When using Sequential models, prefer using an `Input(shape)` object as the first layer in the model instead.\n",
            "  super().__init__(activity_regularizer=activity_regularizer, **kwargs)\n"
          ]
        },
        {
          "output_type": "stream",
          "name": "stdout",
          "text": [
            "Testing activation functions: ('relu', 'relu', 'tanh', 'elu') for Neurons=32, Layers=4\n"
          ]
        },
        {
          "output_type": "stream",
          "name": "stderr",
          "text": [
            "/usr/local/lib/python3.11/dist-packages/keras/src/layers/core/dense.py:87: UserWarning: Do not pass an `input_shape`/`input_dim` argument to a layer. When using Sequential models, prefer using an `Input(shape)` object as the first layer in the model instead.\n",
            "  super().__init__(activity_regularizer=activity_regularizer, **kwargs)\n"
          ]
        },
        {
          "output_type": "stream",
          "name": "stdout",
          "text": [
            "Testing activation functions: ('relu', 'relu', 'sigmoid', 'relu') for Neurons=32, Layers=4\n"
          ]
        },
        {
          "output_type": "stream",
          "name": "stderr",
          "text": [
            "/usr/local/lib/python3.11/dist-packages/keras/src/layers/core/dense.py:87: UserWarning: Do not pass an `input_shape`/`input_dim` argument to a layer. When using Sequential models, prefer using an `Input(shape)` object as the first layer in the model instead.\n",
            "  super().__init__(activity_regularizer=activity_regularizer, **kwargs)\n"
          ]
        },
        {
          "output_type": "stream",
          "name": "stdout",
          "text": [
            "Testing activation functions: ('relu', 'relu', 'sigmoid', 'tanh') for Neurons=32, Layers=4\n"
          ]
        },
        {
          "output_type": "stream",
          "name": "stderr",
          "text": [
            "/usr/local/lib/python3.11/dist-packages/keras/src/layers/core/dense.py:87: UserWarning: Do not pass an `input_shape`/`input_dim` argument to a layer. When using Sequential models, prefer using an `Input(shape)` object as the first layer in the model instead.\n",
            "  super().__init__(activity_regularizer=activity_regularizer, **kwargs)\n"
          ]
        },
        {
          "output_type": "stream",
          "name": "stdout",
          "text": [
            "Testing activation functions: ('relu', 'relu', 'sigmoid', 'sigmoid') for Neurons=32, Layers=4\n"
          ]
        },
        {
          "output_type": "stream",
          "name": "stderr",
          "text": [
            "/usr/local/lib/python3.11/dist-packages/keras/src/layers/core/dense.py:87: UserWarning: Do not pass an `input_shape`/`input_dim` argument to a layer. When using Sequential models, prefer using an `Input(shape)` object as the first layer in the model instead.\n",
            "  super().__init__(activity_regularizer=activity_regularizer, **kwargs)\n"
          ]
        },
        {
          "output_type": "stream",
          "name": "stdout",
          "text": [
            "Testing activation functions: ('relu', 'relu', 'sigmoid', 'elu') for Neurons=32, Layers=4\n"
          ]
        },
        {
          "output_type": "stream",
          "name": "stderr",
          "text": [
            "/usr/local/lib/python3.11/dist-packages/keras/src/layers/core/dense.py:87: UserWarning: Do not pass an `input_shape`/`input_dim` argument to a layer. When using Sequential models, prefer using an `Input(shape)` object as the first layer in the model instead.\n",
            "  super().__init__(activity_regularizer=activity_regularizer, **kwargs)\n"
          ]
        },
        {
          "output_type": "stream",
          "name": "stdout",
          "text": [
            "Testing activation functions: ('relu', 'relu', 'elu', 'relu') for Neurons=32, Layers=4\n"
          ]
        },
        {
          "output_type": "stream",
          "name": "stderr",
          "text": [
            "/usr/local/lib/python3.11/dist-packages/keras/src/layers/core/dense.py:87: UserWarning: Do not pass an `input_shape`/`input_dim` argument to a layer. When using Sequential models, prefer using an `Input(shape)` object as the first layer in the model instead.\n",
            "  super().__init__(activity_regularizer=activity_regularizer, **kwargs)\n"
          ]
        },
        {
          "output_type": "stream",
          "name": "stdout",
          "text": [
            "Testing activation functions: ('relu', 'relu', 'elu', 'tanh') for Neurons=32, Layers=4\n"
          ]
        },
        {
          "output_type": "stream",
          "name": "stderr",
          "text": [
            "/usr/local/lib/python3.11/dist-packages/keras/src/layers/core/dense.py:87: UserWarning: Do not pass an `input_shape`/`input_dim` argument to a layer. When using Sequential models, prefer using an `Input(shape)` object as the first layer in the model instead.\n",
            "  super().__init__(activity_regularizer=activity_regularizer, **kwargs)\n"
          ]
        },
        {
          "output_type": "stream",
          "name": "stdout",
          "text": [
            "Testing activation functions: ('relu', 'relu', 'elu', 'sigmoid') for Neurons=32, Layers=4\n"
          ]
        },
        {
          "output_type": "stream",
          "name": "stderr",
          "text": [
            "/usr/local/lib/python3.11/dist-packages/keras/src/layers/core/dense.py:87: UserWarning: Do not pass an `input_shape`/`input_dim` argument to a layer. When using Sequential models, prefer using an `Input(shape)` object as the first layer in the model instead.\n",
            "  super().__init__(activity_regularizer=activity_regularizer, **kwargs)\n"
          ]
        },
        {
          "output_type": "stream",
          "name": "stdout",
          "text": [
            "Testing activation functions: ('relu', 'relu', 'elu', 'elu') for Neurons=32, Layers=4\n"
          ]
        },
        {
          "output_type": "stream",
          "name": "stderr",
          "text": [
            "/usr/local/lib/python3.11/dist-packages/keras/src/layers/core/dense.py:87: UserWarning: Do not pass an `input_shape`/`input_dim` argument to a layer. When using Sequential models, prefer using an `Input(shape)` object as the first layer in the model instead.\n",
            "  super().__init__(activity_regularizer=activity_regularizer, **kwargs)\n"
          ]
        },
        {
          "output_type": "stream",
          "name": "stdout",
          "text": [
            "Testing activation functions: ('relu', 'tanh', 'relu', 'relu') for Neurons=32, Layers=4\n"
          ]
        },
        {
          "output_type": "stream",
          "name": "stderr",
          "text": [
            "/usr/local/lib/python3.11/dist-packages/keras/src/layers/core/dense.py:87: UserWarning: Do not pass an `input_shape`/`input_dim` argument to a layer. When using Sequential models, prefer using an `Input(shape)` object as the first layer in the model instead.\n",
            "  super().__init__(activity_regularizer=activity_regularizer, **kwargs)\n"
          ]
        },
        {
          "output_type": "stream",
          "name": "stdout",
          "text": [
            "Testing activation functions: ('relu', 'tanh', 'relu', 'tanh') for Neurons=32, Layers=4\n"
          ]
        },
        {
          "output_type": "stream",
          "name": "stderr",
          "text": [
            "/usr/local/lib/python3.11/dist-packages/keras/src/layers/core/dense.py:87: UserWarning: Do not pass an `input_shape`/`input_dim` argument to a layer. When using Sequential models, prefer using an `Input(shape)` object as the first layer in the model instead.\n",
            "  super().__init__(activity_regularizer=activity_regularizer, **kwargs)\n"
          ]
        },
        {
          "output_type": "stream",
          "name": "stdout",
          "text": [
            "Testing activation functions: ('relu', 'tanh', 'relu', 'sigmoid') for Neurons=32, Layers=4\n"
          ]
        },
        {
          "output_type": "stream",
          "name": "stderr",
          "text": [
            "/usr/local/lib/python3.11/dist-packages/keras/src/layers/core/dense.py:87: UserWarning: Do not pass an `input_shape`/`input_dim` argument to a layer. When using Sequential models, prefer using an `Input(shape)` object as the first layer in the model instead.\n",
            "  super().__init__(activity_regularizer=activity_regularizer, **kwargs)\n"
          ]
        },
        {
          "output_type": "stream",
          "name": "stdout",
          "text": [
            "Testing activation functions: ('relu', 'tanh', 'relu', 'elu') for Neurons=32, Layers=4\n"
          ]
        },
        {
          "output_type": "stream",
          "name": "stderr",
          "text": [
            "/usr/local/lib/python3.11/dist-packages/keras/src/layers/core/dense.py:87: UserWarning: Do not pass an `input_shape`/`input_dim` argument to a layer. When using Sequential models, prefer using an `Input(shape)` object as the first layer in the model instead.\n",
            "  super().__init__(activity_regularizer=activity_regularizer, **kwargs)\n"
          ]
        },
        {
          "output_type": "stream",
          "name": "stdout",
          "text": [
            "Best Activation Set for Neurons=32, Layers=4: ['relu', 'relu', 'relu', 'relu'] -> Accuracy: 0.8964174389839172\n",
            "New Overall Best Accuracy: 0.8964174389839172 with Configuration: {'neurons': 32, 'layers': 4, 'activation_list': ['relu', 'relu', 'relu', 'relu'], 'dropout_rate': 0.3, 'optimizer': 'adam', 'learning_rate': 0.001, 'batch_size': 16, 'regularization': None, 'batch_norm': False}\n",
            "\n",
            "Best Overall Configuration:\n",
            "{'neurons': 32, 'layers': 4, 'activation_list': ['relu', 'relu', 'relu', 'relu'], 'dropout_rate': 0.3, 'optimizer': 'adam', 'learning_rate': 0.001, 'batch_size': 16, 'regularization': None, 'batch_norm': False} -> Accuracy: 0.8964174389839172\n"
          ]
        }
      ]
    },
    {
      "cell_type": "code",
      "source": [
        "\n",
        "\n",
        "import itertools\n",
        "\n",
        "# Global best accuracy and best config\n",
        "best_overall_acc = 0\n",
        "best_overall_config = {}\n",
        "\n",
        "\n",
        "def search_best_activation(neurons=32, layers=2, dropout_rate=0.3, optimizer='adam',\n",
        "                           learning_rate=0.001, batch_size=16, regularization=None, batch_norm=False):\n",
        "    \"\"\"\n",
        "    Searches for the best activation function layout for a given neuron-layer configuration.\n",
        "    \"\"\"\n",
        "    global best_overall_acc, best_overall_config  # Ensure global best tracking\n",
        "\n",
        "    best_acc_for_config = 0\n",
        "    best_model = None\n",
        "    best_activation = None\n",
        "    best_params_for_config = {}\n",
        "\n",
        "    # Generate all possible activation combinations\n",
        "    activation_combinations = list(itertools.product(ACTIVATION_FUNCTIONS, repeat=layers))[:20] #let's limit the amount of possible combinations\n",
        "\n",
        "    for activation_list in activation_combinations:\n",
        "        print(f\"Testing activation functions: {activation_list} for Neurons={neurons}, Layers={layers}\")\n",
        "\n",
        "        model, val_acc, activation_used, _ = build_and_train_model_different_activations(\n",
        "            neurons=neurons, layers=layers, activation_list=list(activation_list),\n",
        "            dropout_rate=dropout_rate, optimizer=optimizer, learning_rate=learning_rate,\n",
        "            batch_size=batch_size, regularization=regularization, batch_norm=batch_norm\n",
        "        )\n",
        "\n",
        "        # Update best accuracy for this neuron-layer configuration\n",
        "        if val_acc > best_acc_for_config:\n",
        "            best_acc_for_config = val_acc\n",
        "            best_model = model\n",
        "            best_activation = activation_used\n",
        "            best_params_for_config = {\n",
        "                'neurons': neurons,\n",
        "                'layers': layers,\n",
        "                'activation_list': best_activation,\n",
        "                'dropout_rate': dropout_rate,\n",
        "                'optimizer': optimizer,\n",
        "                'learning_rate': learning_rate,\n",
        "                'batch_size': batch_size,\n",
        "                'regularization': regularization,\n",
        "                'batch_norm': batch_norm\n",
        "            }\n",
        "\n",
        "    print(\n",
        "        f\"Best Activation Set for Neurons={neurons}, Layers={layers}: {best_activation} -> Accuracy: {best_acc_for_config}\")\n",
        "\n",
        "    # Update overall best configuration\n",
        "    if best_acc_for_config > best_overall_acc:\n",
        "        best_overall_acc = best_acc_for_config\n",
        "        best_overall_config = best_params_for_config\n",
        "        print(f\"New Overall Best Accuracy: {best_overall_acc} with Configuration: {best_overall_config}\")\n",
        "\n",
        "    return best_model, best_activation, best_acc_for_config, best_params_for_config\n",
        "\n",
        "\n",
        "# Search for the best activation functions for different layers and neuron configurations\n",
        "layer = 4\n",
        "neurons = [ 64, 128, 512]\n",
        "\n",
        "# Predefined best hyperparameters\n",
        "params = {\n",
        "    'dropout_rate': 0.3,\n",
        "    'optimizer': 'adam',\n",
        "    'learning_rate': 0.001,\n",
        "    'batch_size': 16,\n",
        "    'regularization': None,\n",
        "    'batch_norm': False\n",
        "}\n",
        "\n",
        "# Store results for each configuration\n",
        "results = []\n",
        "for neuron in neurons:\n",
        "    model, activation, val_acc, best_config = search_best_activation(neurons=neuron, layers=layer, **params)\n",
        "    results.append((f'Neurons={neuron}, Layers={layer}', {\n",
        "        'params': best_config,\n",
        "        'activation': activation,\n",
        "        'val_acc': val_acc\n",
        "    }))\n",
        "\n",
        "# Print final best overall configuration\n",
        "print(f\"\\nBest Overall Configuration:\\n{best_overall_config} -> Accuracy: {best_overall_acc}\")"
      ],
      "metadata": {
        "id": "wW3QXIVHzyyA",
        "outputId": "444ae4b0-7c6a-4b08-f124-f9d16124eda7",
        "colab": {
          "base_uri": "https://localhost:8080/"
        }
      },
      "execution_count": null,
      "outputs": [
        {
          "output_type": "stream",
          "name": "stdout",
          "text": [
            "Testing activation functions: ('relu', 'relu', 'relu', 'relu') for Neurons=64, Layers=4\n"
          ]
        },
        {
          "output_type": "stream",
          "name": "stderr",
          "text": [
            "/usr/local/lib/python3.11/dist-packages/keras/src/layers/core/dense.py:87: UserWarning: Do not pass an `input_shape`/`input_dim` argument to a layer. When using Sequential models, prefer using an `Input(shape)` object as the first layer in the model instead.\n",
            "  super().__init__(activity_regularizer=activity_regularizer, **kwargs)\n"
          ]
        },
        {
          "output_type": "stream",
          "name": "stdout",
          "text": [
            "Testing activation functions: ('relu', 'relu', 'relu', 'tanh') for Neurons=64, Layers=4\n"
          ]
        },
        {
          "output_type": "stream",
          "name": "stderr",
          "text": [
            "/usr/local/lib/python3.11/dist-packages/keras/src/layers/core/dense.py:87: UserWarning: Do not pass an `input_shape`/`input_dim` argument to a layer. When using Sequential models, prefer using an `Input(shape)` object as the first layer in the model instead.\n",
            "  super().__init__(activity_regularizer=activity_regularizer, **kwargs)\n"
          ]
        },
        {
          "output_type": "stream",
          "name": "stdout",
          "text": [
            "Testing activation functions: ('relu', 'relu', 'relu', 'sigmoid') for Neurons=64, Layers=4\n"
          ]
        },
        {
          "output_type": "stream",
          "name": "stderr",
          "text": [
            "/usr/local/lib/python3.11/dist-packages/keras/src/layers/core/dense.py:87: UserWarning: Do not pass an `input_shape`/`input_dim` argument to a layer. When using Sequential models, prefer using an `Input(shape)` object as the first layer in the model instead.\n",
            "  super().__init__(activity_regularizer=activity_regularizer, **kwargs)\n"
          ]
        },
        {
          "output_type": "stream",
          "name": "stdout",
          "text": [
            "Testing activation functions: ('relu', 'relu', 'relu', 'elu') for Neurons=64, Layers=4\n"
          ]
        },
        {
          "output_type": "stream",
          "name": "stderr",
          "text": [
            "/usr/local/lib/python3.11/dist-packages/keras/src/layers/core/dense.py:87: UserWarning: Do not pass an `input_shape`/`input_dim` argument to a layer. When using Sequential models, prefer using an `Input(shape)` object as the first layer in the model instead.\n",
            "  super().__init__(activity_regularizer=activity_regularizer, **kwargs)\n"
          ]
        },
        {
          "output_type": "stream",
          "name": "stdout",
          "text": [
            "Testing activation functions: ('relu', 'relu', 'tanh', 'relu') for Neurons=64, Layers=4\n"
          ]
        },
        {
          "output_type": "stream",
          "name": "stderr",
          "text": [
            "/usr/local/lib/python3.11/dist-packages/keras/src/layers/core/dense.py:87: UserWarning: Do not pass an `input_shape`/`input_dim` argument to a layer. When using Sequential models, prefer using an `Input(shape)` object as the first layer in the model instead.\n",
            "  super().__init__(activity_regularizer=activity_regularizer, **kwargs)\n"
          ]
        },
        {
          "output_type": "stream",
          "name": "stdout",
          "text": [
            "Testing activation functions: ('relu', 'relu', 'tanh', 'tanh') for Neurons=64, Layers=4\n"
          ]
        },
        {
          "output_type": "stream",
          "name": "stderr",
          "text": [
            "/usr/local/lib/python3.11/dist-packages/keras/src/layers/core/dense.py:87: UserWarning: Do not pass an `input_shape`/`input_dim` argument to a layer. When using Sequential models, prefer using an `Input(shape)` object as the first layer in the model instead.\n",
            "  super().__init__(activity_regularizer=activity_regularizer, **kwargs)\n"
          ]
        },
        {
          "output_type": "stream",
          "name": "stdout",
          "text": [
            "Testing activation functions: ('relu', 'relu', 'tanh', 'sigmoid') for Neurons=64, Layers=4\n"
          ]
        },
        {
          "output_type": "stream",
          "name": "stderr",
          "text": [
            "/usr/local/lib/python3.11/dist-packages/keras/src/layers/core/dense.py:87: UserWarning: Do not pass an `input_shape`/`input_dim` argument to a layer. When using Sequential models, prefer using an `Input(shape)` object as the first layer in the model instead.\n",
            "  super().__init__(activity_regularizer=activity_regularizer, **kwargs)\n"
          ]
        },
        {
          "output_type": "stream",
          "name": "stdout",
          "text": [
            "Testing activation functions: ('relu', 'relu', 'tanh', 'elu') for Neurons=64, Layers=4\n"
          ]
        },
        {
          "output_type": "stream",
          "name": "stderr",
          "text": [
            "/usr/local/lib/python3.11/dist-packages/keras/src/layers/core/dense.py:87: UserWarning: Do not pass an `input_shape`/`input_dim` argument to a layer. When using Sequential models, prefer using an `Input(shape)` object as the first layer in the model instead.\n",
            "  super().__init__(activity_regularizer=activity_regularizer, **kwargs)\n"
          ]
        },
        {
          "output_type": "stream",
          "name": "stdout",
          "text": [
            "Testing activation functions: ('relu', 'relu', 'sigmoid', 'relu') for Neurons=64, Layers=4\n"
          ]
        },
        {
          "output_type": "stream",
          "name": "stderr",
          "text": [
            "/usr/local/lib/python3.11/dist-packages/keras/src/layers/core/dense.py:87: UserWarning: Do not pass an `input_shape`/`input_dim` argument to a layer. When using Sequential models, prefer using an `Input(shape)` object as the first layer in the model instead.\n",
            "  super().__init__(activity_regularizer=activity_regularizer, **kwargs)\n"
          ]
        },
        {
          "output_type": "stream",
          "name": "stdout",
          "text": [
            "Testing activation functions: ('relu', 'relu', 'sigmoid', 'tanh') for Neurons=64, Layers=4\n"
          ]
        },
        {
          "output_type": "stream",
          "name": "stderr",
          "text": [
            "/usr/local/lib/python3.11/dist-packages/keras/src/layers/core/dense.py:87: UserWarning: Do not pass an `input_shape`/`input_dim` argument to a layer. When using Sequential models, prefer using an `Input(shape)` object as the first layer in the model instead.\n",
            "  super().__init__(activity_regularizer=activity_regularizer, **kwargs)\n"
          ]
        },
        {
          "output_type": "stream",
          "name": "stdout",
          "text": [
            "Testing activation functions: ('relu', 'relu', 'sigmoid', 'sigmoid') for Neurons=64, Layers=4\n"
          ]
        },
        {
          "output_type": "stream",
          "name": "stderr",
          "text": [
            "/usr/local/lib/python3.11/dist-packages/keras/src/layers/core/dense.py:87: UserWarning: Do not pass an `input_shape`/`input_dim` argument to a layer. When using Sequential models, prefer using an `Input(shape)` object as the first layer in the model instead.\n",
            "  super().__init__(activity_regularizer=activity_regularizer, **kwargs)\n"
          ]
        },
        {
          "output_type": "stream",
          "name": "stdout",
          "text": [
            "Testing activation functions: ('relu', 'relu', 'sigmoid', 'elu') for Neurons=64, Layers=4\n"
          ]
        },
        {
          "output_type": "stream",
          "name": "stderr",
          "text": [
            "/usr/local/lib/python3.11/dist-packages/keras/src/layers/core/dense.py:87: UserWarning: Do not pass an `input_shape`/`input_dim` argument to a layer. When using Sequential models, prefer using an `Input(shape)` object as the first layer in the model instead.\n",
            "  super().__init__(activity_regularizer=activity_regularizer, **kwargs)\n"
          ]
        },
        {
          "output_type": "stream",
          "name": "stdout",
          "text": [
            "Testing activation functions: ('relu', 'relu', 'elu', 'relu') for Neurons=64, Layers=4\n"
          ]
        },
        {
          "output_type": "stream",
          "name": "stderr",
          "text": [
            "/usr/local/lib/python3.11/dist-packages/keras/src/layers/core/dense.py:87: UserWarning: Do not pass an `input_shape`/`input_dim` argument to a layer. When using Sequential models, prefer using an `Input(shape)` object as the first layer in the model instead.\n",
            "  super().__init__(activity_regularizer=activity_regularizer, **kwargs)\n"
          ]
        },
        {
          "output_type": "stream",
          "name": "stdout",
          "text": [
            "Testing activation functions: ('relu', 'relu', 'elu', 'tanh') for Neurons=64, Layers=4\n"
          ]
        },
        {
          "output_type": "stream",
          "name": "stderr",
          "text": [
            "/usr/local/lib/python3.11/dist-packages/keras/src/layers/core/dense.py:87: UserWarning: Do not pass an `input_shape`/`input_dim` argument to a layer. When using Sequential models, prefer using an `Input(shape)` object as the first layer in the model instead.\n",
            "  super().__init__(activity_regularizer=activity_regularizer, **kwargs)\n"
          ]
        },
        {
          "output_type": "stream",
          "name": "stdout",
          "text": [
            "Testing activation functions: ('relu', 'relu', 'elu', 'sigmoid') for Neurons=64, Layers=4\n"
          ]
        },
        {
          "output_type": "stream",
          "name": "stderr",
          "text": [
            "/usr/local/lib/python3.11/dist-packages/keras/src/layers/core/dense.py:87: UserWarning: Do not pass an `input_shape`/`input_dim` argument to a layer. When using Sequential models, prefer using an `Input(shape)` object as the first layer in the model instead.\n",
            "  super().__init__(activity_regularizer=activity_regularizer, **kwargs)\n"
          ]
        },
        {
          "output_type": "stream",
          "name": "stdout",
          "text": [
            "Testing activation functions: ('relu', 'relu', 'elu', 'elu') for Neurons=64, Layers=4\n"
          ]
        },
        {
          "output_type": "stream",
          "name": "stderr",
          "text": [
            "/usr/local/lib/python3.11/dist-packages/keras/src/layers/core/dense.py:87: UserWarning: Do not pass an `input_shape`/`input_dim` argument to a layer. When using Sequential models, prefer using an `Input(shape)` object as the first layer in the model instead.\n",
            "  super().__init__(activity_regularizer=activity_regularizer, **kwargs)\n"
          ]
        },
        {
          "output_type": "stream",
          "name": "stdout",
          "text": [
            "Testing activation functions: ('relu', 'tanh', 'relu', 'relu') for Neurons=64, Layers=4\n"
          ]
        },
        {
          "output_type": "stream",
          "name": "stderr",
          "text": [
            "/usr/local/lib/python3.11/dist-packages/keras/src/layers/core/dense.py:87: UserWarning: Do not pass an `input_shape`/`input_dim` argument to a layer. When using Sequential models, prefer using an `Input(shape)` object as the first layer in the model instead.\n",
            "  super().__init__(activity_regularizer=activity_regularizer, **kwargs)\n"
          ]
        }
      ]
    },
    {
      "cell_type": "code",
      "source": [],
      "metadata": {
        "id": "zmHC6llTK7fA"
      },
      "execution_count": null,
      "outputs": []
    }
  ],
  "metadata": {
    "colab": {
      "name": "Witamy w Colaboratory",
      "toc_visible": true,
      "provenance": [],
      "gpuType": "T4"
    },
    "kernelspec": {
      "display_name": "Python 3",
      "name": "python3"
    },
    "accelerator": "GPU"
  },
  "nbformat": 4,
  "nbformat_minor": 0
}